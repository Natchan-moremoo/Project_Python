{
 "cells": [
  {
   "cell_type": "markdown",
   "id": "a074867c",
   "metadata": {},
   "source": [
    "Create project 20/05/2565   \n",
    "\n",
    "Create by moremoo\n",
    "\n",
    "Project : Learn Auto Click with pyautogui"
   ]
  },
  {
   "cell_type": "markdown",
   "id": "d41bf836",
   "metadata": {},
   "source": [
    "   pyautogui.position()        => ตำแหน่งเมาส์\n",
    "   pyautogui.click()             => คลิกเมาส์\n",
    "   pyautogui.doubleClick()   => Double Click\n",
    "   pyautogui.moveTo()        => เลื่อนเมาส์\n",
    "   pyautogui.hotkey()         => Hot Key\n",
    "   pyautogui.write()           => พิมพ์คีร์บอร์ด"
   ]
  },
  {
   "cell_type": "code",
   "execution_count": null,
   "id": "8dbc2ad0",
   "metadata": {},
   "outputs": [],
   "source": []
  },
  {
   "cell_type": "markdown",
   "id": "3d3166c7",
   "metadata": {},
   "source": [
    "# Install pyautogui"
   ]
  },
  {
   "cell_type": "code",
   "execution_count": 1,
   "id": "ac7c0538",
   "metadata": {},
   "outputs": [
    {
     "name": "stdout",
     "output_type": "stream",
     "text": [
      "Requirement already satisfied: pyautogui in d:\\moremoo\\lib\\site-packages (0.9.53)\n",
      "Requirement already satisfied: PyTweening>=1.0.1 in d:\\moremoo\\lib\\site-packages (from pyautogui) (1.0.7)\n",
      "Requirement already satisfied: pygetwindow>=0.0.5 in d:\\moremoo\\lib\\site-packages (from pyautogui) (0.0.9)\n",
      "Requirement already satisfied: pyscreeze>=0.1.21 in d:\\moremoo\\lib\\site-packages (from pyautogui) (0.1.28)\n",
      "Requirement already satisfied: pymsgbox in d:\\moremoo\\lib\\site-packages (from pyautogui) (1.0.9)\n",
      "Requirement already satisfied: mouseinfo in d:\\moremoo\\lib\\site-packages (from pyautogui) (0.1.3)\n",
      "Requirement already satisfied: pyrect in d:\\moremoo\\lib\\site-packages (from pygetwindow>=0.0.5->pyautogui) (0.2.0)\n",
      "Requirement already satisfied: Pillow>=6.2.1 in d:\\moremoo\\lib\\site-packages (from pyscreeze>=0.1.21->pyautogui) (8.2.0)\n",
      "Requirement already satisfied: pyperclip in d:\\moremoo\\lib\\site-packages (from mouseinfo->pyautogui) (1.8.2)\n"
     ]
    }
   ],
   "source": [
    "!pip install pyautogui "
   ]
  },
  {
   "cell_type": "code",
   "execution_count": 2,
   "id": "573a8c46",
   "metadata": {},
   "outputs": [],
   "source": [
    "import pyautogui"
   ]
  },
  {
   "cell_type": "markdown",
   "id": "eb8b4f7c",
   "metadata": {},
   "source": [
    "# ตำแหน่งเมาส์"
   ]
  },
  {
   "cell_type": "code",
   "execution_count": 3,
   "id": "15898f53",
   "metadata": {},
   "outputs": [
    {
     "data": {
      "text/plain": [
       "Point(x=1254, y=411)"
      ]
     },
     "execution_count": 3,
     "metadata": {},
     "output_type": "execute_result"
    }
   ],
   "source": [
    "pyautogui.position()"
   ]
  },
  {
   "cell_type": "code",
   "execution_count": 4,
   "id": "9ecb3d4b",
   "metadata": {},
   "outputs": [
    {
     "name": "stdout",
     "output_type": "stream",
     "text": [
      "Point(x=1254, y=411)\n"
     ]
    }
   ],
   "source": [
    "Test_ = pyautogui.position()\n",
    "print(Test_)"
   ]
  },
  {
   "cell_type": "markdown",
   "id": "ec1d6d97",
   "metadata": {},
   "source": [
    "### Unpack\n"
   ]
  },
  {
   "cell_type": "code",
   "execution_count": 5,
   "id": "f59c20ce",
   "metadata": {},
   "outputs": [
    {
     "name": "stdout",
     "output_type": "stream",
     "text": [
      "1254\n",
      "411\n"
     ]
    }
   ],
   "source": [
    "x, y = pyautogui.position()\n",
    "print(x)\n",
    "print(y)"
   ]
  },
  {
   "cell_type": "markdown",
   "id": "7af570d7",
   "metadata": {},
   "source": [
    "# คลิกเมาส์"
   ]
  },
  {
   "cell_type": "code",
   "execution_count": 6,
   "id": "ae3a8d71",
   "metadata": {},
   "outputs": [],
   "source": [
    "position_ = pyautogui.position()\n",
    "pyautogui.click(position_)"
   ]
  },
  {
   "cell_type": "markdown",
   "id": "d8e62609",
   "metadata": {},
   "source": [
    "# Double Click"
   ]
  },
  {
   "cell_type": "code",
   "execution_count": 7,
   "id": "73169cdf",
   "metadata": {},
   "outputs": [],
   "source": [
    "position_ = pyautogui.position()\n",
    "pyautogui.doubleClick(position_)"
   ]
  },
  {
   "cell_type": "markdown",
   "id": "5f062ee8",
   "metadata": {},
   "source": [
    "# เลื่อนเมาส์"
   ]
  },
  {
   "cell_type": "code",
   "execution_count": 8,
   "id": "b578f293",
   "metadata": {},
   "outputs": [
    {
     "name": "stdout",
     "output_type": "stream",
     "text": [
      "Point(x=1239, y=428)\n"
     ]
    }
   ],
   "source": [
    "file_position = pyautogui.position()\n",
    "print(file_position)"
   ]
  },
  {
   "cell_type": "code",
   "execution_count": 9,
   "id": "88b2c6f3",
   "metadata": {},
   "outputs": [],
   "source": [
    "Test_ = pyautogui.moveTo(file_position, duration=2)"
   ]
  },
  {
   "cell_type": "markdown",
   "id": "c72cf22d",
   "metadata": {},
   "source": [
    "# ลากเมาส์"
   ]
  },
  {
   "cell_type": "code",
   "execution_count": 10,
   "id": "21a19b1e",
   "metadata": {},
   "outputs": [],
   "source": [
    "dstination = pyautogui.position()"
   ]
  },
  {
   "cell_type": "code",
   "execution_count": 11,
   "id": "372c965d",
   "metadata": {},
   "outputs": [],
   "source": [
    "pyautogui.dragTo(dstination, duration=2)"
   ]
  },
  {
   "cell_type": "markdown",
   "id": "bb8ee374",
   "metadata": {},
   "source": [
    "# พิมพ์คีร์บอร์ด"
   ]
  },
  {
   "cell_type": "code",
   "execution_count": 12,
   "id": "1faa9057",
   "metadata": {},
   "outputs": [],
   "source": [
    "import time"
   ]
  },
  {
   "cell_type": "code",
   "execution_count": 13,
   "id": "8a099639",
   "metadata": {},
   "outputs": [],
   "source": [
    "time.sleep(5)\n",
    "pyautogui.write('Hello Word')"
   ]
  },
  {
   "cell_type": "markdown",
   "id": "f2f33053",
   "metadata": {},
   "source": [
    "# hot key"
   ]
  },
  {
   "cell_type": "code",
   "execution_count": 14,
   "id": "215f947f",
   "metadata": {},
   "outputs": [],
   "source": [
    "pyautogui.hotkey('Ctrl', 'Tab')"
   ]
  },
  {
   "cell_type": "code",
   "execution_count": null,
   "id": "ace3ed87",
   "metadata": {},
   "outputs": [],
   "source": []
  }
 ],
 "metadata": {
  "kernelspec": {
   "display_name": "Python 3",
   "language": "python",
   "name": "python3"
  },
  "language_info": {
   "codemirror_mode": {
    "name": "ipython",
    "version": 3
   },
   "file_extension": ".py",
   "mimetype": "text/x-python",
   "name": "python",
   "nbconvert_exporter": "python",
   "pygments_lexer": "ipython3",
   "version": "3.8.8"
  }
 },
 "nbformat": 4,
 "nbformat_minor": 5
}
