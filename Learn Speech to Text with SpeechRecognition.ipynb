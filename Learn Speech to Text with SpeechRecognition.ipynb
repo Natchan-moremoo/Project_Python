{
 "cells": [
  {
   "cell_type": "markdown",
   "id": "11d4b608",
   "metadata": {},
   "source": [
    "Create project 28/05/2565   \n",
    "\n",
    "Create by moremoo\n",
    "\n",
    "Project : Learn Speech to Text with SpeechRecognition"
   ]
  },
  {
   "cell_type": "markdown",
   "id": "19d8e16f",
   "metadata": {},
   "source": [
    "    SpeechRecognition  => เปลี่ยนเสียงเป็น text\n",
    "                    pyaudio =>  ควบคุม ไมค์"
   ]
  },
  {
   "cell_type": "markdown",
   "id": "b07502e2",
   "metadata": {},
   "source": [
    "# การติดตั้ง"
   ]
  },
  {
   "cell_type": "code",
   "execution_count": 1,
   "id": "79760d40",
   "metadata": {},
   "outputs": [
    {
     "name": "stdout",
     "output_type": "stream",
     "text": [
      "Requirement already satisfied: SpeechRecognition in d:\\moremoo\\lib\\site-packages (3.10.0)\n",
      "Requirement already satisfied: requests>=2.26.0 in d:\\moremoo\\lib\\site-packages (from SpeechRecognition) (2.31.0)\n",
      "Requirement already satisfied: charset-normalizer<4,>=2 in d:\\moremoo\\lib\\site-packages (from requests>=2.26.0->SpeechRecognition) (3.1.0)\n",
      "Requirement already satisfied: idna<4,>=2.5 in d:\\moremoo\\lib\\site-packages (from requests>=2.26.0->SpeechRecognition) (2.10)\n",
      "Requirement already satisfied: certifi>=2017.4.17 in d:\\moremoo\\lib\\site-packages (from requests>=2.26.0->SpeechRecognition) (2020.12.5)\n",
      "Requirement already satisfied: urllib3<3,>=1.21.1 in d:\\moremoo\\lib\\site-packages (from requests>=2.26.0->SpeechRecognition) (1.26.4)\n",
      "Note: you may need to restart the kernel to use updated packages.\n"
     ]
    }
   ],
   "source": [
    "pip install SpeechRecognition"
   ]
  },
  {
   "cell_type": "code",
   "execution_count": 2,
   "id": "78dc9248",
   "metadata": {},
   "outputs": [
    {
     "name": "stdout",
     "output_type": "stream",
     "text": [
      "Requirement already satisfied: pyaudio in d:\\moremoo\\lib\\site-packages (0.2.13)\n",
      "Note: you may need to restart the kernel to use updated packages.\n"
     ]
    }
   ],
   "source": [
    "pip install pyaudio"
   ]
  },
  {
   "cell_type": "code",
   "execution_count": 8,
   "id": "6cae9154",
   "metadata": {},
   "outputs": [],
   "source": [
    "import speech_recognition as sr\n",
    "import pyaudio"
   ]
  },
  {
   "cell_type": "markdown",
   "id": "14216970",
   "metadata": {},
   "source": [
    "# รายชื่อไมค์โคโฟน"
   ]
  },
  {
   "cell_type": "code",
   "execution_count": 35,
   "id": "ae329a84",
   "metadata": {},
   "outputs": [
    {
     "data": {
      "text/plain": [
       "['Microsoft Sound Mapper - Input',\n",
       " 'Headset (Jabra Elite 3)',\n",
       " 'Line In (Realtek(R) Audio)',\n",
       " 'Microsoft Sound Mapper - Output',\n",
       " 'Headphones (Jabra Elite 3)',\n",
       " 'SA240Y (2- HD Audio Driver for ',\n",
       " 'Primary Sound Capture Driver',\n",
       " 'Headset (Jabra Elite 3)',\n",
       " 'Line In (Realtek(R) Audio)',\n",
       " 'Primary Sound Driver',\n",
       " 'Headphones (Jabra Elite 3)',\n",
       " 'SA240Y (2- HD Audio Driver for Display Audio)',\n",
       " 'Headphones (Jabra Elite 3)',\n",
       " 'SA240Y (2- HD Audio Driver for Display Audio)',\n",
       " 'Line In (Realtek(R) Audio)',\n",
       " 'Headset (Jabra Elite 3)',\n",
       " 'Speakers (Realtek HD Audio output)',\n",
       " 'Microphone (Realtek HD Audio Mic input)',\n",
       " 'Line In (Realtek HD Audio Line input)',\n",
       " 'Stereo Mix (Realtek HD Audio Stereo input)',\n",
       " 'Headphones (Realtek HD Audio 2nd output)',\n",
       " 'Headphones ()',\n",
       " 'SA240Y (ACX HD Audio Speaker)',\n",
       " 'Headset (@System32\\\\drivers\\\\bthhfenum.sys,#2;%1 Hands-Free%0\\r\\n;(SP01))',\n",
       " 'Headset (@System32\\\\drivers\\\\bthhfenum.sys,#2;%1 Hands-Free%0\\r\\n;(SP01))',\n",
       " 'Headphones ()',\n",
       " 'Headset (@System32\\\\drivers\\\\bthhfenum.sys,#2;%1 Hands-Free%0\\r\\n;(X25))',\n",
       " 'Headset (@System32\\\\drivers\\\\bthhfenum.sys,#2;%1 Hands-Free%0\\r\\n;(X25))',\n",
       " 'Headphones ()',\n",
       " 'Headset (@System32\\\\drivers\\\\bthhfenum.sys,#2;%1 Hands-Free%0\\r\\n;(Jabra Elite 3))',\n",
       " 'Headset (@System32\\\\drivers\\\\bthhfenum.sys,#2;%1 Hands-Free%0\\r\\n;(Jabra Elite 3))']"
      ]
     },
     "execution_count": 35,
     "metadata": {},
     "output_type": "execute_result"
    }
   ],
   "source": [
    "sr.Microphone.list_microphone_names()"
   ]
  },
  {
   "cell_type": "markdown",
   "id": "26676a5a",
   "metadata": {},
   "source": [
    "# เลือกไมโคโฟน"
   ]
  },
  {
   "cell_type": "code",
   "execution_count": 36,
   "id": "6f202650",
   "metadata": {},
   "outputs": [
    {
     "data": {
      "text/plain": [
       "<speech_recognition.Microphone at 0x19fb83ab760>"
      ]
     },
     "execution_count": 36,
     "metadata": {},
     "output_type": "execute_result"
    }
   ],
   "source": [
    "mic = sr.Microphone(1)\n",
    "mic"
   ]
  },
  {
   "cell_type": "markdown",
   "id": "5e7a6d81",
   "metadata": {},
   "source": [
    "# สร้าง Recognizer"
   ]
  },
  {
   "cell_type": "code",
   "execution_count": 37,
   "id": "5a6e712e",
   "metadata": {},
   "outputs": [
    {
     "data": {
      "text/plain": [
       "<speech_recognition.Recognizer at 0x19fb83ab3d0>"
      ]
     },
     "execution_count": 37,
     "metadata": {},
     "output_type": "execute_result"
    }
   ],
   "source": [
    "recog = sr.Recognizer()\n",
    "recog"
   ]
  },
  {
   "cell_type": "markdown",
   "id": "b0f59dcd",
   "metadata": {},
   "source": [
    "# เปิดไมโคโฟน"
   ]
  },
  {
   "cell_type": "code",
   "execution_count": 38,
   "id": "0d6c004b",
   "metadata": {},
   "outputs": [],
   "source": [
    "with mic as source:\n",
    "    audio = recog.listen(source)"
   ]
  },
  {
   "cell_type": "markdown",
   "id": "3032af90",
   "metadata": {},
   "source": [
    "# แปลงเสียงเป็นตัวอักษร"
   ]
  },
  {
   "cell_type": "code",
   "execution_count": 43,
   "id": "49bd198a",
   "metadata": {},
   "outputs": [
    {
     "name": "stdout",
     "output_type": "stream",
     "text": [
      "Test 1 2 3 4\n"
     ]
    }
   ],
   "source": [
    "with mic as source:\n",
    "    audio = recog.listen(source)\n",
    "    print(recog.recognize_google(audio, language='th'))"
   ]
  },
  {
   "cell_type": "markdown",
   "id": "b52f987e",
   "metadata": {},
   "source": [
    "# ทำต่อเนื่องไม่หยุด"
   ]
  },
  {
   "cell_type": "code",
   "execution_count": null,
   "id": "c440c856",
   "metadata": {},
   "outputs": [],
   "source": [
    "with mic as source:\n",
    "    while True:\n",
    "        audio = recog.listen(source)\n",
    "        print(recog.recognize_google(audio, language='th'))"
   ]
  },
  {
   "cell_type": "markdown",
   "id": "49619fde",
   "metadata": {},
   "source": [
    "# อยากให้ทำงานต่อหลังจาก error"
   ]
  },
  {
   "cell_type": "code",
   "execution_count": null,
   "id": "a1dfb149",
   "metadata": {},
   "outputs": [],
   "source": [
    "with mic as source:\n",
    "    while True:\n",
    "        audio = recog.listen(source)\n",
    "        try:\n",
    "            print(recog.recognize_google(audio, language='th'))\n",
    "        except:\n",
    "            continue"
   ]
  }
 ],
 "metadata": {
  "kernelspec": {
   "display_name": "Python 3",
   "language": "python",
   "name": "python3"
  },
  "language_info": {
   "codemirror_mode": {
    "name": "ipython",
    "version": 3
   },
   "file_extension": ".py",
   "mimetype": "text/x-python",
   "name": "python",
   "nbconvert_exporter": "python",
   "pygments_lexer": "ipython3",
   "version": "3.8.8"
  }
 },
 "nbformat": 4,
 "nbformat_minor": 5
}
